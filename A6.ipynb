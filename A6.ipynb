{
  "nbformat": 4,
  "nbformat_minor": 0,
  "metadata": {
    "accelerator": "GPU",
    "colab": {
      "name": "A6.ipynb",
      "provenance": [],
      "collapsed_sections": [],
      "include_colab_link": true
    },
    "kernelspec": {
      "display_name": "Python 3",
      "name": "python3"
    }
  },
  "cells": [
    {
      "cell_type": "markdown",
      "metadata": {
        "id": "view-in-github",
        "colab_type": "text"
      },
      "source": [
        "<a href=\"https://colab.research.google.com/github/amritasidhu/COSC310FinalProject/blob/main/A6.ipynb\" target=\"_parent\"><img src=\"https://colab.research.google.com/assets/colab-badge.svg\" alt=\"Open In Colab\"/></a>"
      ]
    },
    {
      "cell_type": "markdown",
      "metadata": {
        "id": "9JrIevO5mEoV"
      },
      "source": [
        "# A6 (10 Marks)\n",
        "---\n",
        "**Focus**: CUDA Basics - Introduction (Warming Up!!)\n",
        "\n",
        "© 2021 Dr. Scott Fazackerley (Based on labs from Dr. Abdallah Mohamed © 2020)\n",
        "\n",
        "For this course, we are going to be using Google Colab version and takes advantage of the free Cloud GPUs offered through the platform for CUDA development. Colab Notebooks (you're reading one right now!) are typically designed to run Python code, however, we'll be modifying them in such a way that we can run CUDA code (as discussed in the lectures) on the GPU.\n",
        "\n",
        "Please note that your code will be written and run directly within this assignment. You will need to save a local copy and ensure that you save and upload your completed notebook to your GitHub repo for submission.   You will also need to provide screenshots of output in many cases for submissions.  \n",
        "\n",
        "**CRITICAL**\n",
        "Lastly, keep in mind that anytime your runtime disconnects or is restarted **you must re-run the Notebook Setup code block**. This applies to all CUDA assignments done using Google Colab."
      ]
    },
    {
      "cell_type": "markdown",
      "metadata": {
        "id": "9hd9jjAb30WQ"
      },
      "source": [
        "## Notebook Setup: GPU Runtime\n",
        "\n",
        "Before writing/running any CUDA code, we need to ensure Colab is provisioning a Cloud GPU for us. To do this, click on the \"Runtime\" menu item in the top bar and select the \"Change runtime type\" option. Select \"GPU\" from the list of Hardware accelerators and click \"Ok\". \n",
        "\n",
        "## Notebook Setup: CUDA Compilation\n",
        "\n",
        "To enable CUDA code compilation on Colab Notebooks, we'll employ use of the NVCC4Jupyter plugin (source code/documentation available [here](https://github.com/UBCO-COSC-407-Winter-2021-Term-1/nvcc4jupyter). This plugin effectively turns any Colab Notebook code block that includes `%%cu` into compilable/runnable CUDA code.\n",
        "\n",
        "To download/install/enable NVCC4Jupyter, please run the following code block. **Running this block is required anytime you connect/restart/reconnect to an instance.** To run a code block, mouse over it and click the play button on left side.\n",
        "\n",
        "You should see some output when you click the play button. Wait until the code block is finished running (this is indicated when the stop button goes away). The last couple lines of output should look something like the following:\n",
        "\n",
        "```\n",
        "created output directory at /content/src\n",
        "Out bin /content/result.out\n",
        "```\n",
        "\n",
        "If your last two lines of output look something like above, you're ready to begin the assignment!"
      ]
    },
    {
      "cell_type": "code",
      "metadata": {
        "id": "3R3aMhww6WKU",
        "colab": {
          "base_uri": "https://localhost:8080/"
        },
        "outputId": "b4aa7fc7-429d-4fac-fdb1-f09bf4bad2b3"
      },
      "source": [
        "# Run the following to configure your notebook for CUDA code\n",
        "!pip install git+git://github.com/UBCO-COSC-407-Winter-2021-Term-1/nvcc4jupyter.git\n",
        "%load_ext nvcc_plugin"
      ],
      "execution_count": 2,
      "outputs": [
        {
          "output_type": "stream",
          "name": "stdout",
          "text": [
            "Collecting git+git://github.com/UBCO-COSC-407-Winter-2021-Term-1/nvcc4jupyter.git\n",
            "  Cloning git://github.com/UBCO-COSC-407-Winter-2021-Term-1/nvcc4jupyter.git to /tmp/pip-req-build-exb0tws4\n",
            "  Running command git clone -q git://github.com/UBCO-COSC-407-Winter-2021-Term-1/nvcc4jupyter.git /tmp/pip-req-build-exb0tws4\n",
            "Building wheels for collected packages: NVCCPlugin\n",
            "  Building wheel for NVCCPlugin (setup.py) ... \u001b[?25l\u001b[?25hdone\n",
            "  Created wheel for NVCCPlugin: filename=NVCCPlugin-0.0.2-py3-none-any.whl size=4405 sha256=3a45b6d2d7f444a4ccc979c243122ac7c244428c0cccb2604f4314e88b1f8169\n",
            "  Stored in directory: /tmp/pip-ephem-wheel-cache-75gf_kri/wheels/a5/e9/0b/81648e44e04e6ae47e0ec176f5c1805063e4f687ee2bfceca6\n",
            "Successfully built NVCCPlugin\n",
            "Installing collected packages: NVCCPlugin\n",
            "Successfully installed NVCCPlugin-0.0.2\n",
            "created output directory at /content/src\n",
            "Out bin /content/result.out\n"
          ]
        }
      ]
    },
    {
      "cell_type": "markdown",
      "metadata": {
        "id": "O6I7-EHCnSB_"
      },
      "source": [
        "## Question 1. [+3] \n",
        "\n",
        "Querying your GPU: In this question, you will run simple query code to discover the properties and limits of your Colab-provisioned NVIDIA card. Run the code block below, then capture your answers and **submit** them as an image file named A6_Q1.png.  This is important as we will want to know what resources are available on a card. \n",
        "\n",
        "**Note:** See below that `%%cu` needs to be added to let Colab know that the code block is CUDA code.\n",
        "\n",
        "*Marking Guide: +3 for a screenshot with the required info*\n"
      ]
    },
    {
      "cell_type": "code",
      "metadata": {
        "id": "uTKcmsc8_khE",
        "colab": {
          "base_uri": "https://localhost:8080/"
        },
        "outputId": "f49acc0a-3d70-44b9-c7e6-b094fcbede73"
      },
      "source": [
        "%%cu\n",
        "#include \"cuda_runtime.h\"\n",
        "#include \"device_launch_parameters.h\"\n",
        "#include <stdio.h>\n",
        "\n",
        "int main()\n",
        "{\n",
        "    cudaDeviceProp prop;\n",
        "    int count;\n",
        "    cudaGetDeviceCount(&count);\n",
        "    for (int i = 0; i < count; i++)\n",
        "    {\n",
        "        cudaGetDeviceProperties(&prop, i);\n",
        "        printf(\"----- General Information for device %d ---\\n\", i);\n",
        "        printf(\"Name:\t%s\\n\", prop.name);\n",
        "        printf(\"Compute capability:\t%d.%d\\n\", prop.major, prop.minor);\n",
        "        printf(\"Clock rate:\t%d\\n\", prop.clockRate);\n",
        "        printf(\"Device copy overlap:\t\");\n",
        "        printf(prop.deviceOverlap ? \"Enabled\\n\" : \"Disabled\\n\");\n",
        "        printf(\"Kernel execution timeout: \");\n",
        "        printf(prop.kernelExecTimeoutEnabled ? \"Enabled\\n\" : \"Disabled\\n\");\n",
        "        printf(\"----- Memory Information for device %d ---\\n\", i);\n",
        "        printf(\"Total global mem:\t%lu\\n\", prop.totalGlobalMem);\n",
        "        printf(\"Total constant Mem:\t%ld\\n\", prop.totalConstMem);\n",
        "        printf(\"Max mem pitch:\t%ld\\n\", prop.memPitch);\n",
        "        printf(\"Texture Alignment:\t%ld\\n\", prop.textureAlignment);\n",
        "        printf(\"----- MP Information for device %d ---\\n\", i);\n",
        "        printf(\"Multiprocessor count:\t%d\\n\", prop.multiProcessorCount);\n",
        "        printf(\"Shared mem per mp:\t%ld\\n\", prop.sharedMemPerBlock);\n",
        "        printf(\"Registers per mp:\t%d\\n\", prop.regsPerBlock);\n",
        "        printf(\"Threads in warp:\t%d\\n\", prop.warpSize);\n",
        "        printf(\"Max threads per block:\t%d\\n\", prop.maxThreadsPerBlock);\n",
        "        printf(\"Max thread dimensions:\t(%d, %d, %d)\\n\",\n",
        "               prop.maxThreadsDim[0], prop.maxThreadsDim[1], prop.maxThreadsDim[2]);\n",
        "        printf(\"Max grid dimensions:\t(%d, %d, %d)\\n\", prop.maxGridSize[0], prop.maxGridSize[1], prop.maxGridSize[2]);\n",
        "        printf(\"\\n\");\n",
        "    }\n",
        "    return 0;\n",
        "}"
      ],
      "execution_count": 3,
      "outputs": [
        {
          "output_type": "stream",
          "name": "stdout",
          "text": [
            "----- General Information for device 0 ---\n",
            "Name:\tTesla K80\n",
            "Compute capability:\t3.7\n",
            "Clock rate:\t823500\n",
            "Device copy overlap:\tEnabled\n",
            "Kernel execution timeout: Disabled\n",
            "----- Memory Information for device 0 ---\n",
            "Total global mem:\t11996954624\n",
            "Total constant Mem:\t65536\n",
            "Max mem pitch:\t2147483647\n",
            "Texture Alignment:\t512\n",
            "----- MP Information for device 0 ---\n",
            "Multiprocessor count:\t13\n",
            "Shared mem per mp:\t49152\n",
            "Registers per mp:\t65536\n",
            "Threads in warp:\t32\n",
            "Max threads per block:\t1024\n",
            "Max thread dimensions:\t(1024, 1024, 64)\n",
            "Max grid dimensions:\t(2147483647, 65535, 65535)\n",
            "\n",
            "\n"
          ]
        }
      ]
    },
    {
      "cell_type": "markdown",
      "metadata": {
        "id": "WIUayEZiZSlD"
      },
      "source": [
        "![cosc407Lab6Qs1.PNG](data:image/png;base64,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)"
      ]
    },
    {
      "cell_type": "markdown",
      "metadata": {
        "id": "_z_NlOUrATP6"
      },
      "source": [
        "## Question 2. [+7]\n",
        "\n",
        "**Simple CUDA code:** consider this loop for initializing an array **a**:\n",
        "\n",
        "```c\n",
        "const int n = 10000000 // 10 million\n",
        "for (i = 0; i < n; i++)\n",
        "    a[i] = (double)i / n;\n",
        "```\n",
        "\n",
        "Submit:\n",
        "\n",
        "1.   The serial implementation running on the CPU.\n",
        "2.   The CUDA implementation (1 thread per array element).  In your implementation, you will need to ensure:\n",
        "    1. Memory on the card is correctly allocated (and the host as well)\n",
        "    2. Data is properly divided up as well as defining the number of blocks in a grid and the number of threads per block\n",
        "    3. Data is copied back from the card at the end of the kernel launch\n",
        "    4. Data on the card is free'd when you are done. \n",
        "\n",
        "In both cases, add code to print the first and last 5 elements of the array to verify your code.  Add a text block commenting on the timing results.\n",
        "\n",
        "*Note that you need to use the placeholder %.7f to print 7 digits after the decimal point.*\n",
        "\n",
        "***Sample output:***\n",
        "\n",
        "```c\n",
        "a[0]: 0.0000000\n",
        "a[1]: 0.0000001\n",
        "a[2]: 0.0000002\n",
        "a[3]: 0.0000003\n",
        "a[4]: 0.0000004\n",
        "...\n",
        "a[9999995]: 0.9999995 \n",
        "a[9999996]: 0.9999996 \n",
        "a[9999997]: 0.9999997 \n",
        "a[9999998]: 0.9999998 \n",
        "a[9999999]: 0.9999999\n",
        "```\n",
        "\n",
        "***Note***:  You can find details on timing CUDA code at: https://developer.nvidia.com/blog/how-implement-performance-metrics-cuda-cc/ and https://programmerfish.com/profiling-cuda-kernels-and-wrapper-functions/.\n",
        "\n",
        "***Marking Guide:***\n",
        "+2 for the kernel function\n",
        "+3 for launch configuration and properly calling the kernel\n",
        "+2 for measuring the time of the parallel and serial code  "
      ]
    },
    {
      "cell_type": "markdown",
      "metadata": {
        "id": "RyqpuDM2CX6K"
      },
      "source": [
        "### CPU Implementation\n",
        "\n",
        "Please code and run your CPU implementation in the code block below. When submitting your assignment, please copy the code block into a text/c file."
      ]
    },
    {
      "cell_type": "code",
      "metadata": {
        "id": "Lpli5URsCtPx",
        "colab": {
          "base_uri": "https://localhost:8080/"
        },
        "outputId": "ab4f1b73-6388-4b85-8e04-21f08934a7c9"
      },
      "source": [
        "%%cu\n",
        "#include \"cuda_runtime.h\"\n",
        "#include \"device_launch_parameters.h\"\n",
        "#include <stdio.h>\n",
        "\n",
        "// CPU Implementation goes here!\n",
        "\n",
        "#define N 10000000\n",
        "\n",
        "void initializeVector(int* a, int n){\n",
        "    for(int i=0;i<n;i++){\n",
        "        a[i] = (double)i / n;\n",
        "    }\n",
        "}\n",
        "\n",
        "int main() {\n",
        "    int N = 10000000;\n",
        "    int *a;\n",
        "\n",
        "    a = malloc(N * sizeof(int));\n",
        "\n",
        "    for(int i=0;i<N;i++){\n",
        "        a[i]=i;\n",
        "    }\n",
        "    \n",
        "    initializeVector(a, N);\n",
        "\n",
        "    //print for testing:\n",
        "\n",
        "    for(int i=0;i< 6;i++){\n",
        "        printf(\"a[%d] : %0.7f \", i, a[i]); \n",
        "    }\n",
        "\n",
        "    free(a);\n",
        "    \n",
        "}"
      ],
      "execution_count": 26,
      "outputs": [
        {
          "output_type": "stream",
          "name": "stdout",
          "text": [
            "/tmp/tmp7774n88v/c20af568-55ff-4eb7-a3c4-c2e77102f56f.cu(9): error: explicit type is missing (\"int\" assumed)\n",
            "\n",
            "/tmp/tmp7774n88v/c20af568-55ff-4eb7-a3c4-c2e77102f56f.cu(13): warning: missing return statement at end of non-void function \"initializeVector\"\n",
            "\n",
            "/tmp/tmp7774n88v/c20af568-55ff-4eb7-a3c4-c2e77102f56f.cu(16): error: expected an identifier\n",
            "\n",
            "/tmp/tmp7774n88v/c20af568-55ff-4eb7-a3c4-c2e77102f56f.cu(19): error: a value of type \"void *\" cannot be assigned to an entity of type \"int *\"\n",
            "\n",
            "3 errors detected in the compilation of \"/tmp/tmp7774n88v/c20af568-55ff-4eb7-a3c4-c2e77102f56f.cu\".\n",
            "\n"
          ]
        }
      ]
    },
    {
      "cell_type": "markdown",
      "metadata": {
        "id": "O0froFiPCwgJ"
      },
      "source": [
        "### CUDA Implementation\n",
        "\n",
        "Please code and run your CUDA implementation in the code block below. When submitting your assignment, please copy the code block into a text/cu file."
      ]
    },
    {
      "cell_type": "code",
      "metadata": {
        "id": "PHHRVWZNC1Iu",
        "colab": {
          "base_uri": "https://localhost:8080/"
        },
        "outputId": "89da755c-6c5f-4595-9a3b-601817d71f56"
      },
      "source": [
        "%%cu\n",
        "#include \"cuda_runtime.h\"\n",
        "#include \"device_launch_parameters.h\"\n",
        "#include <stdio.h>\n",
        "\n",
        "// CUDA Implementation goes here!\n",
        "\n",
        "#define N 10000000\n",
        "\n",
        "__global__ void initializeVector(double *a, int n){\n",
        "    int i= threadIdx.x;\n",
        "    if(i<n)\n",
        "        a[i] = ((double)i) / n;\n",
        "    \n",
        "}\n",
        "\n",
        "int main() {\n",
        "    \n",
        "    int N = 10000000;\n",
        "    double *a = new double[N];\n",
        "\n",
        "    int *d_A;\n",
        "    a = malloc(N * sizeof(int));\n",
        "\n",
        "    cudaMalloc(&d_A, N * sizeof(int));\n",
        "\n",
        "    cudaMemcpy(d_A, a, N * sizeof(int), cudeMemcpyHostToDevice);\n",
        "\n",
        "    for(int i=0;i<N;i++){\n",
        "        a[i]=i;\n",
        "    }\n",
        "    \n",
        "    initializeVector<<<1,N>>>(d_A, N);\n",
        "\n",
        "    cudaMemcpy(a, d_A, N * sizeof(int), cudaMemcpyDeviceToHost);\n",
        "\n",
        "    //print for testing:\n",
        "\n",
        "    for(int i=0;i< 6;i++){\n",
        "        printf(\"a[%d] : %0.7f \", i, a[i]); \n",
        "    }\n",
        "    for(int i=N - 5;i< 6;i++){\n",
        "        printf(\"a[%d] : %0.7f \", i, a[i]); \n",
        "    }\n",
        "\n",
        "    free(a);\n",
        "    free(d_A);\n",
        "    return 0;\n",
        "}"
      ],
      "execution_count": 23,
      "outputs": [
        {
          "output_type": "stream",
          "name": "stdout",
          "text": [
            "/tmp/tmpr6bn4b4l/3832854e-b784-4ad3-81c5-c3d0dc6715aa.cu(18): error: expected an identifier\n",
            "\n",
            "/tmp/tmpr6bn4b4l/3832854e-b784-4ad3-81c5-c3d0dc6715aa.cu(22): error: a value of type \"void *\" cannot be assigned to an entity of type \"double *\"\n",
            "\n",
            "/tmp/tmpr6bn4b4l/3832854e-b784-4ad3-81c5-c3d0dc6715aa.cu(26): error: identifier \"cudeMemcpyHostToDevice\" is undefined\n",
            "\n",
            "/tmp/tmpr6bn4b4l/3832854e-b784-4ad3-81c5-c3d0dc6715aa.cu(32): error: argument of type \"int *\" is incompatible with parameter of type \"double *\"\n",
            "\n",
            "4 errors detected in the compilation of \"/tmp/tmpr6bn4b4l/3832854e-b784-4ad3-81c5-c3d0dc6715aa.cu\".\n",
            "\n"
          ]
        }
      ]
    },
    {
      "cell_type": "code",
      "metadata": {
        "id": "fy64BOWXmvsh",
        "colab": {
          "base_uri": "https://localhost:8080/",
          "height": 131
        },
        "outputId": "36e74859-3b07-46da-a84a-2dc4664b9348"
      },
      "source": [
        "Comments on timing results:"
      ],
      "execution_count": 6,
      "outputs": [
        {
          "output_type": "error",
          "ename": "SyntaxError",
          "evalue": "ignored",
          "traceback": [
            "\u001b[0;36m  File \u001b[0;32m\"<ipython-input-6-baa86e38a6d5>\"\u001b[0;36m, line \u001b[0;32m1\u001b[0m\n\u001b[0;31m    Comments on timing results:\u001b[0m\n\u001b[0m              ^\u001b[0m\n\u001b[0;31mSyntaxError\u001b[0m\u001b[0;31m:\u001b[0m invalid syntax\n"
          ]
        }
      ]
    },
    {
      "cell_type": "markdown",
      "metadata": {
        "id": "hYLlFNpdDOOS"
      },
      "source": [
        "---\n",
        "\n",
        "**Submission Instructions**\n",
        "\n",
        "For this assignment, you need to do the following:\n",
        "\n",
        "1. Save your A6.ipynb file from Colab to GitHub.    Make sure that this file is saved (you have a copy) and it is successfully commited to your repo.   Ensure that your code solutions are in your Notebook as they will be marked from there. \n",
        "2. Add the PNG file from Q1 and the source code file.\n",
        "\n",
        "Note that you can resubmit an assignment, but the new submission overwrites the old submission and receives a new timestamp with GitHub.  Make sure to review the due date for this submission. "
      ]
    }
  ]
}